{
  "cells": [
    {
      "cell_type": "code",
      "execution_count": null,
      "metadata": {
        "colab": {
          "base_uri": "https://localhost:8080/"
        },
        "id": "PY0ekCv8ndfK",
        "outputId": "a87b5a08-684e-4ce2-ff88-43095491647e"
      },
      "outputs": [
        {
          "output_type": "stream",
          "name": "stdout",
          "text": [
            "Mounted at /content/drive\n"
          ]
        }
      ],
      "source": [
        "from google.colab import drive\n",
        "drive.mount('/content/drive')"
      ]
    },
    {
      "cell_type": "code",
      "execution_count": null,
      "metadata": {
        "colab": {
          "base_uri": "https://localhost:8080/"
        },
        "id": "rterMTD0prWm",
        "outputId": "c95067d8-6e9e-41f7-85c5-bda1fa49d361"
      },
      "outputs": [
        {
          "output_type": "stream",
          "name": "stdout",
          "text": [
            "Mounted at /gdrive\n"
          ]
        }
      ],
      "source": [
        "from google.colab import drive\n",
        "drive.mount('/gdrive', force_remount=True)"
      ]
    },
    {
      "cell_type": "code",
      "execution_count": null,
      "metadata": {
        "id": "SHBLPe65rnSy"
      },
      "outputs": [],
      "source": [
        "import numpy as np\n",
        "import pandas as pd\n",
        "import io\n",
        "import sys\n",
        "from tensorflow.keras.preprocessing.text import Tokenizer\n",
        "from tensorflow.keras.utils import to_categorical\n",
        "from tensorflow.keras.preprocessing.sequence import pad_sequences\n",
        "from sklearn.model_selection import train_test_split\n",
        "from tensorflow.keras.layers import *\n",
        "from tensorflow.keras.models import Model\n",
        "from sklearn.metrics import f1_score, precision_score, recall_score\n",
        "from keras.models import Sequential\n",
        "from tensorflow.keras.callbacks import *\n",
        "from sklearn.metrics import classification_report\n",
        "from sklearn.metrics import plot_confusion_matrix\n",
        "from tensorflow.keras import backend as K\n",
        "from tensorflow.keras.models import Model, Sequential\n",
        "from keras.layers import Dense, Flatten, LSTM, Conv1D, MaxPooling1D,Masking, Dropout, Activation\n",
        "from keras.layers.advanced_activations import PReLU\n",
        "from tensorflow.keras.regularizers import l2\n",
        "from tensorflow.keras.optimizers import Adam\n",
        "from keras import initializers\n",
        "from sklearn.utils import shuffle\n",
        "from matplotlib import pyplot as plt"
      ]
    },
    {
      "cell_type": "code",
      "execution_count": null,
      "metadata": {
        "id": "yuKMDT_3rnS0"
      },
      "outputs": [],
      "source": [
        "MAX_NB_WORDS = 50000\n",
        "MAX_SEQUENCE_LENGTH = 32\n",
        "EMBEDDING_DIM = 300\n",
        "\n",
        "train_df = pd.read_csv(\"/gdrive/My Drive/Project-DataSceince/train_normalized.csv\", sep='\\t', encoding='utf-16')\n",
        "\n",
        "dev_df = pd.read_csv(\"/gdrive/My Drive/Project-DataSceince/valid_normalized.csv\", sep='\\t', encoding='utf-16')\n",
        "\n",
        "test_df = pd.read_csv('/gdrive/My Drive/Project-DataSceince/test_normalized.csv', sep='\\t', encoding='utf-16')"
      ]
    },
    {
      "cell_type": "code",
      "execution_count": null,
      "metadata": {
        "colab": {
          "base_uri": "https://localhost:8080/",
          "height": 424
        },
        "id": "7x-ryiMLqS0J",
        "outputId": "37a2dc23-cd4a-4f75-fcc2-3c366e4233b5"
      },
      "outputs": [
        {
          "output_type": "execute_result",
          "data": {
            "text/plain": [
              "                                           tweet_content     label\n",
              "0      بالاضافة لقيام معلمو الجيزة للذهاب الي جريدة ا...       MSA\n",
              "1      بعدين والله حرام تجي تلقى الي واقف  الاشاره با...       MSA\n",
              "2                       لمسه اليد مرتين واضحة جدا والحكم  DIAL_LEV\n",
              "3                            بخصوص الهاتريك عمرها   تصير  DIAL_LEV\n",
              "4               الله يجبر كسرهم ويرجع  لدهم اليوم  بكرى   DIAL_GLF\n",
              "...                                                  ...       ...\n",
              "79585                                   وبورسعيد حكايتها  DIAL_LEV\n",
              "79586   الان  لبس الزي الرسمي السعودي يكون  نظره عليا...       MSA\n",
              "79587  اتوقع والله اعلم انه يقصد بقية الشعب المسافرين...  DIAL_GLF\n",
              "79588                                             بيتبدأ  DIAL_EGY\n",
              "79589  عامر ذيب شد حيلك  عامر   التراجع  مستواك  حركت...  DIAL_LEV\n",
              "\n",
              "[79590 rows x 2 columns]"
            ],
            "text/html": [
              "\n",
              "  <div id=\"df-b44ba02e-bbcf-4f60-845f-a4119c3e2654\">\n",
              "    <div class=\"colab-df-container\">\n",
              "      <div>\n",
              "<style scoped>\n",
              "    .dataframe tbody tr th:only-of-type {\n",
              "        vertical-align: middle;\n",
              "    }\n",
              "\n",
              "    .dataframe tbody tr th {\n",
              "        vertical-align: top;\n",
              "    }\n",
              "\n",
              "    .dataframe thead th {\n",
              "        text-align: right;\n",
              "    }\n",
              "</style>\n",
              "<table border=\"1\" class=\"dataframe\">\n",
              "  <thead>\n",
              "    <tr style=\"text-align: right;\">\n",
              "      <th></th>\n",
              "      <th>tweet_content</th>\n",
              "      <th>label</th>\n",
              "    </tr>\n",
              "  </thead>\n",
              "  <tbody>\n",
              "    <tr>\n",
              "      <th>0</th>\n",
              "      <td>بالاضافة لقيام معلمو الجيزة للذهاب الي جريدة ا...</td>\n",
              "      <td>MSA</td>\n",
              "    </tr>\n",
              "    <tr>\n",
              "      <th>1</th>\n",
              "      <td>بعدين والله حرام تجي تلقى الي واقف  الاشاره با...</td>\n",
              "      <td>MSA</td>\n",
              "    </tr>\n",
              "    <tr>\n",
              "      <th>2</th>\n",
              "      <td>لمسه اليد مرتين واضحة جدا والحكم</td>\n",
              "      <td>DIAL_LEV</td>\n",
              "    </tr>\n",
              "    <tr>\n",
              "      <th>3</th>\n",
              "      <td>بخصوص الهاتريك عمرها   تصير</td>\n",
              "      <td>DIAL_LEV</td>\n",
              "    </tr>\n",
              "    <tr>\n",
              "      <th>4</th>\n",
              "      <td>الله يجبر كسرهم ويرجع  لدهم اليوم  بكرى</td>\n",
              "      <td>DIAL_GLF</td>\n",
              "    </tr>\n",
              "    <tr>\n",
              "      <th>...</th>\n",
              "      <td>...</td>\n",
              "      <td>...</td>\n",
              "    </tr>\n",
              "    <tr>\n",
              "      <th>79585</th>\n",
              "      <td>وبورسعيد حكايتها</td>\n",
              "      <td>DIAL_LEV</td>\n",
              "    </tr>\n",
              "    <tr>\n",
              "      <th>79586</th>\n",
              "      <td>الان  لبس الزي الرسمي السعودي يكون  نظره عليا...</td>\n",
              "      <td>MSA</td>\n",
              "    </tr>\n",
              "    <tr>\n",
              "      <th>79587</th>\n",
              "      <td>اتوقع والله اعلم انه يقصد بقية الشعب المسافرين...</td>\n",
              "      <td>DIAL_GLF</td>\n",
              "    </tr>\n",
              "    <tr>\n",
              "      <th>79588</th>\n",
              "      <td>بيتبدأ</td>\n",
              "      <td>DIAL_EGY</td>\n",
              "    </tr>\n",
              "    <tr>\n",
              "      <th>79589</th>\n",
              "      <td>عامر ذيب شد حيلك  عامر   التراجع  مستواك  حركت...</td>\n",
              "      <td>DIAL_LEV</td>\n",
              "    </tr>\n",
              "  </tbody>\n",
              "</table>\n",
              "<p>79590 rows × 2 columns</p>\n",
              "</div>\n",
              "      <button class=\"colab-df-convert\" onclick=\"convertToInteractive('df-b44ba02e-bbcf-4f60-845f-a4119c3e2654')\"\n",
              "              title=\"Convert this dataframe to an interactive table.\"\n",
              "              style=\"display:none;\">\n",
              "        \n",
              "  <svg xmlns=\"http://www.w3.org/2000/svg\" height=\"24px\"viewBox=\"0 0 24 24\"\n",
              "       width=\"24px\">\n",
              "    <path d=\"M0 0h24v24H0V0z\" fill=\"none\"/>\n",
              "    <path d=\"M18.56 5.44l.94 2.06.94-2.06 2.06-.94-2.06-.94-.94-2.06-.94 2.06-2.06.94zm-11 1L8.5 8.5l.94-2.06 2.06-.94-2.06-.94L8.5 2.5l-.94 2.06-2.06.94zm10 10l.94 2.06.94-2.06 2.06-.94-2.06-.94-.94-2.06-.94 2.06-2.06.94z\"/><path d=\"M17.41 7.96l-1.37-1.37c-.4-.4-.92-.59-1.43-.59-.52 0-1.04.2-1.43.59L10.3 9.45l-7.72 7.72c-.78.78-.78 2.05 0 2.83L4 21.41c.39.39.9.59 1.41.59.51 0 1.02-.2 1.41-.59l7.78-7.78 2.81-2.81c.8-.78.8-2.07 0-2.86zM5.41 20L4 18.59l7.72-7.72 1.47 1.35L5.41 20z\"/>\n",
              "  </svg>\n",
              "      </button>\n",
              "      \n",
              "  <style>\n",
              "    .colab-df-container {\n",
              "      display:flex;\n",
              "      flex-wrap:wrap;\n",
              "      gap: 12px;\n",
              "    }\n",
              "\n",
              "    .colab-df-convert {\n",
              "      background-color: #E8F0FE;\n",
              "      border: none;\n",
              "      border-radius: 50%;\n",
              "      cursor: pointer;\n",
              "      display: none;\n",
              "      fill: #1967D2;\n",
              "      height: 32px;\n",
              "      padding: 0 0 0 0;\n",
              "      width: 32px;\n",
              "    }\n",
              "\n",
              "    .colab-df-convert:hover {\n",
              "      background-color: #E2EBFA;\n",
              "      box-shadow: 0px 1px 2px rgba(60, 64, 67, 0.3), 0px 1px 3px 1px rgba(60, 64, 67, 0.15);\n",
              "      fill: #174EA6;\n",
              "    }\n",
              "\n",
              "    [theme=dark] .colab-df-convert {\n",
              "      background-color: #3B4455;\n",
              "      fill: #D2E3FC;\n",
              "    }\n",
              "\n",
              "    [theme=dark] .colab-df-convert:hover {\n",
              "      background-color: #434B5C;\n",
              "      box-shadow: 0px 1px 3px 1px rgba(0, 0, 0, 0.15);\n",
              "      filter: drop-shadow(0px 1px 2px rgba(0, 0, 0, 0.3));\n",
              "      fill: #FFFFFF;\n",
              "    }\n",
              "  </style>\n",
              "\n",
              "      <script>\n",
              "        const buttonEl =\n",
              "          document.querySelector('#df-b44ba02e-bbcf-4f60-845f-a4119c3e2654 button.colab-df-convert');\n",
              "        buttonEl.style.display =\n",
              "          google.colab.kernel.accessAllowed ? 'block' : 'none';\n",
              "\n",
              "        async function convertToInteractive(key) {\n",
              "          const element = document.querySelector('#df-b44ba02e-bbcf-4f60-845f-a4119c3e2654');\n",
              "          const dataTable =\n",
              "            await google.colab.kernel.invokeFunction('convertToInteractive',\n",
              "                                                     [key], {});\n",
              "          if (!dataTable) return;\n",
              "\n",
              "          const docLinkHtml = 'Like what you see? Visit the ' +\n",
              "            '<a target=\"_blank\" href=https://colab.research.google.com/notebooks/data_table.ipynb>data table notebook</a>'\n",
              "            + ' to learn more about interactive tables.';\n",
              "          element.innerHTML = '';\n",
              "          dataTable['output_type'] = 'display_data';\n",
              "          await google.colab.output.renderOutput(dataTable, element);\n",
              "          const docLink = document.createElement('div');\n",
              "          docLink.innerHTML = docLinkHtml;\n",
              "          element.appendChild(docLink);\n",
              "        }\n",
              "      </script>\n",
              "    </div>\n",
              "  </div>\n",
              "  "
            ]
          },
          "metadata": {},
          "execution_count": 5
        }
      ],
      "source": [
        "train_df"
      ]
    },
    {
      "cell_type": "code",
      "execution_count": null,
      "metadata": {
        "colab": {
          "base_uri": "https://localhost:8080/",
          "height": 223
        },
        "id": "98xY1vd8rnS1",
        "outputId": "316a2fe1-fe60-4328-9d03-248333417031"
      },
      "outputs": [
        {
          "output_type": "stream",
          "name": "stdout",
          "text": [
            "(79590,)\n"
          ]
        },
        {
          "output_type": "execute_result",
          "data": {
            "text/plain": [
              "                                       tweet_content     label\n",
              "0  بالاضافة لقيام معلمو الجيزة للذهاب الي جريدة ا...       MSA\n",
              "1  بعدين والله حرام تجي تلقى الي واقف  الاشاره با...       MSA\n",
              "2                   لمسه اليد مرتين واضحة جدا والحكم  DIAL_LEV\n",
              "3                        بخصوص الهاتريك عمرها   تصير  DIAL_LEV\n",
              "4           الله يجبر كسرهم ويرجع  لدهم اليوم  بكرى   DIAL_GLF"
            ],
            "text/html": [
              "\n",
              "  <div id=\"df-56ca511e-bc5c-45c1-8b0a-44542c7cad53\">\n",
              "    <div class=\"colab-df-container\">\n",
              "      <div>\n",
              "<style scoped>\n",
              "    .dataframe tbody tr th:only-of-type {\n",
              "        vertical-align: middle;\n",
              "    }\n",
              "\n",
              "    .dataframe tbody tr th {\n",
              "        vertical-align: top;\n",
              "    }\n",
              "\n",
              "    .dataframe thead th {\n",
              "        text-align: right;\n",
              "    }\n",
              "</style>\n",
              "<table border=\"1\" class=\"dataframe\">\n",
              "  <thead>\n",
              "    <tr style=\"text-align: right;\">\n",
              "      <th></th>\n",
              "      <th>tweet_content</th>\n",
              "      <th>label</th>\n",
              "    </tr>\n",
              "  </thead>\n",
              "  <tbody>\n",
              "    <tr>\n",
              "      <th>0</th>\n",
              "      <td>بالاضافة لقيام معلمو الجيزة للذهاب الي جريدة ا...</td>\n",
              "      <td>MSA</td>\n",
              "    </tr>\n",
              "    <tr>\n",
              "      <th>1</th>\n",
              "      <td>بعدين والله حرام تجي تلقى الي واقف  الاشاره با...</td>\n",
              "      <td>MSA</td>\n",
              "    </tr>\n",
              "    <tr>\n",
              "      <th>2</th>\n",
              "      <td>لمسه اليد مرتين واضحة جدا والحكم</td>\n",
              "      <td>DIAL_LEV</td>\n",
              "    </tr>\n",
              "    <tr>\n",
              "      <th>3</th>\n",
              "      <td>بخصوص الهاتريك عمرها   تصير</td>\n",
              "      <td>DIAL_LEV</td>\n",
              "    </tr>\n",
              "    <tr>\n",
              "      <th>4</th>\n",
              "      <td>الله يجبر كسرهم ويرجع  لدهم اليوم  بكرى</td>\n",
              "      <td>DIAL_GLF</td>\n",
              "    </tr>\n",
              "  </tbody>\n",
              "</table>\n",
              "</div>\n",
              "      <button class=\"colab-df-convert\" onclick=\"convertToInteractive('df-56ca511e-bc5c-45c1-8b0a-44542c7cad53')\"\n",
              "              title=\"Convert this dataframe to an interactive table.\"\n",
              "              style=\"display:none;\">\n",
              "        \n",
              "  <svg xmlns=\"http://www.w3.org/2000/svg\" height=\"24px\"viewBox=\"0 0 24 24\"\n",
              "       width=\"24px\">\n",
              "    <path d=\"M0 0h24v24H0V0z\" fill=\"none\"/>\n",
              "    <path d=\"M18.56 5.44l.94 2.06.94-2.06 2.06-.94-2.06-.94-.94-2.06-.94 2.06-2.06.94zm-11 1L8.5 8.5l.94-2.06 2.06-.94-2.06-.94L8.5 2.5l-.94 2.06-2.06.94zm10 10l.94 2.06.94-2.06 2.06-.94-2.06-.94-.94-2.06-.94 2.06-2.06.94z\"/><path d=\"M17.41 7.96l-1.37-1.37c-.4-.4-.92-.59-1.43-.59-.52 0-1.04.2-1.43.59L10.3 9.45l-7.72 7.72c-.78.78-.78 2.05 0 2.83L4 21.41c.39.39.9.59 1.41.59.51 0 1.02-.2 1.41-.59l7.78-7.78 2.81-2.81c.8-.78.8-2.07 0-2.86zM5.41 20L4 18.59l7.72-7.72 1.47 1.35L5.41 20z\"/>\n",
              "  </svg>\n",
              "      </button>\n",
              "      \n",
              "  <style>\n",
              "    .colab-df-container {\n",
              "      display:flex;\n",
              "      flex-wrap:wrap;\n",
              "      gap: 12px;\n",
              "    }\n",
              "\n",
              "    .colab-df-convert {\n",
              "      background-color: #E8F0FE;\n",
              "      border: none;\n",
              "      border-radius: 50%;\n",
              "      cursor: pointer;\n",
              "      display: none;\n",
              "      fill: #1967D2;\n",
              "      height: 32px;\n",
              "      padding: 0 0 0 0;\n",
              "      width: 32px;\n",
              "    }\n",
              "\n",
              "    .colab-df-convert:hover {\n",
              "      background-color: #E2EBFA;\n",
              "      box-shadow: 0px 1px 2px rgba(60, 64, 67, 0.3), 0px 1px 3px 1px rgba(60, 64, 67, 0.15);\n",
              "      fill: #174EA6;\n",
              "    }\n",
              "\n",
              "    [theme=dark] .colab-df-convert {\n",
              "      background-color: #3B4455;\n",
              "      fill: #D2E3FC;\n",
              "    }\n",
              "\n",
              "    [theme=dark] .colab-df-convert:hover {\n",
              "      background-color: #434B5C;\n",
              "      box-shadow: 0px 1px 3px 1px rgba(0, 0, 0, 0.15);\n",
              "      filter: drop-shadow(0px 1px 2px rgba(0, 0, 0, 0.3));\n",
              "      fill: #FFFFFF;\n",
              "    }\n",
              "  </style>\n",
              "\n",
              "      <script>\n",
              "        const buttonEl =\n",
              "          document.querySelector('#df-56ca511e-bc5c-45c1-8b0a-44542c7cad53 button.colab-df-convert');\n",
              "        buttonEl.style.display =\n",
              "          google.colab.kernel.accessAllowed ? 'block' : 'none';\n",
              "\n",
              "        async function convertToInteractive(key) {\n",
              "          const element = document.querySelector('#df-56ca511e-bc5c-45c1-8b0a-44542c7cad53');\n",
              "          const dataTable =\n",
              "            await google.colab.kernel.invokeFunction('convertToInteractive',\n",
              "                                                     [key], {});\n",
              "          if (!dataTable) return;\n",
              "\n",
              "          const docLinkHtml = 'Like what you see? Visit the ' +\n",
              "            '<a target=\"_blank\" href=https://colab.research.google.com/notebooks/data_table.ipynb>data table notebook</a>'\n",
              "            + ' to learn more about interactive tables.';\n",
              "          element.innerHTML = '';\n",
              "          dataTable['output_type'] = 'display_data';\n",
              "          await google.colab.output.renderOutput(dataTable, element);\n",
              "          const docLink = document.createElement('div');\n",
              "          docLink.innerHTML = docLinkHtml;\n",
              "          element.appendChild(docLink);\n",
              "        }\n",
              "      </script>\n",
              "    </div>\n",
              "  </div>\n",
              "  "
            ]
          },
          "metadata": {},
          "execution_count": 6
        }
      ],
      "source": [
        "texts_train, labels_train = train_df['tweet_content'], train_df['label']\n",
        "texts_dev, labels_dev = dev_df['tweet_content'], dev_df['label']\n",
        "texts_test, labels_test = test_df['tweet_content'], test_df['label']\n",
        "\n",
        "print(texts_train.shape)\n",
        "\n",
        "train_df.head()"
      ]
    },
    {
      "cell_type": "code",
      "execution_count": null,
      "metadata": {
        "id": "xCusU0PPMBqz"
      },
      "outputs": [],
      "source": [
        "labels_train = labels_train.astype('category')\n",
        "labels_train = labels_train.cat.codes\n",
        "\n",
        "labels_dev = labels_dev.astype('category')\n",
        "labels_dev = labels_dev.cat.codes\n",
        "\n",
        "labels_test = labels_test.astype('category') \n",
        "labels_test = labels_test.cat.codes "
      ]
    },
    {
      "cell_type": "code",
      "execution_count": null,
      "metadata": {
        "colab": {
          "base_uri": "https://localhost:8080/"
        },
        "id": "ybGySigfRFoq",
        "outputId": "463cae87-bf15-4ff5-c1ac-38d08114b92d"
      },
      "outputs": [
        {
          "output_type": "execute_result",
          "data": {
            "text/plain": [
              "0        3\n",
              "1        3\n",
              "2        2\n",
              "3        2\n",
              "4        1\n",
              "        ..\n",
              "79585    2\n",
              "79586    3\n",
              "79587    1\n",
              "79588    0\n",
              "79589    2\n",
              "Length: 79590, dtype: int8"
            ]
          },
          "metadata": {},
          "execution_count": 8
        }
      ],
      "source": [
        "labels_train"
      ]
    },
    {
      "cell_type": "code",
      "execution_count": null,
      "metadata": {
        "colab": {
          "base_uri": "https://localhost:8080/"
        },
        "id": "K2YfcquQrnS1",
        "outputId": "7ad9ab02-ab5c-4e08-c1a3-d68b70411160"
      },
      "outputs": [
        {
          "output_type": "execute_result",
          "data": {
            "text/plain": [
              "((79590,), (79590,), (9727,), (9727,), (10209,), (10209,))"
            ]
          },
          "metadata": {},
          "execution_count": 9
        }
      ],
      "source": [
        "x_train = texts_train\n",
        "y_train = labels_train\n",
        "\n",
        "x_dev = texts_dev\n",
        "y_dev = labels_dev\n",
        "\n",
        "x_test = texts_test\n",
        "y_test = labels_test\n",
        "\n",
        "x_train.shape, y_train.shape, x_dev.shape, y_dev.shape, x_test.shape, y_test.shape"
      ]
    },
    {
      "cell_type": "code",
      "execution_count": null,
      "metadata": {
        "id": "woLFTaBgrnS2"
      },
      "outputs": [],
      "source": [
        "y_train = np.asarray(pd.get_dummies(train_df.label), dtype = np.int8)\n",
        "y_dev = np.asarray(pd.get_dummies(dev_df.label), dtype = np.int8)\n",
        "y_test = np.asarray(pd.get_dummies(test_df.label), dtype = np.int8)"
      ]
    },
    {
      "cell_type": "code",
      "execution_count": null,
      "metadata": {
        "colab": {
          "base_uri": "https://localhost:8080/"
        },
        "id": "bNkbSfaArnS2",
        "outputId": "4f628ce6-04ca-4c5d-bd32-19c84a10ec04"
      },
      "outputs": [
        {
          "output_type": "stream",
          "name": "stdout",
          "text": [
            "Words in index: 161409\n"
          ]
        }
      ],
      "source": [
        "tokquestions = x_train.astype(str)\n",
        "tokenizer = Tokenizer(num_words=MAX_NB_WORDS)\n",
        "tokenizer.fit_on_texts(tokquestions)\n",
        "tokquestion1_word_sequences = tokenizer.texts_to_sequences(x_train.astype(str))\n",
        "word_index = tokenizer.word_index\n",
        "\n",
        "print(\"Words in index: %d\" % len(word_index))"
      ]
    },
    {
      "cell_type": "code",
      "execution_count": null,
      "metadata": {
        "colab": {
          "base_uri": "https://localhost:8080/"
        },
        "id": "ZaqVtclXNJc0",
        "outputId": "f6d298d3-83a6-454a-fc4a-bfa945a31ac5"
      },
      "outputs": [
        {
          "output_type": "stream",
          "name": "stdout",
          "text": [
            "--2022-09-02 13:58:58--  https://dl.fbaipublicfiles.com/fasttext/vectors-crawl/cc.ar.300.vec.gz\n",
            "Resolving dl.fbaipublicfiles.com (dl.fbaipublicfiles.com)... 104.22.75.142, 172.67.9.4, 104.22.74.142, ...\n",
            "Connecting to dl.fbaipublicfiles.com (dl.fbaipublicfiles.com)|104.22.75.142|:443... connected.\n",
            "HTTP request sent, awaiting response... 200 OK\n",
            "Length: 1272365870 (1.2G) [binary/octet-stream]\n",
            "Saving to: ‘cc.ar.300.vec.gz’\n",
            "\n",
            "cc.ar.300.vec.gz    100%[===================>]   1.18G  25.2MB/s    in 62s     \n",
            "\n",
            "2022-09-02 14:00:00 (19.6 MB/s) - ‘cc.ar.300.vec.gz’ saved [1272365870/1272365870]\n",
            "\n"
          ]
        }
      ],
      "source": [
        "!wget https://dl.fbaipublicfiles.com/fasttext/vectors-crawl/cc.ar.300.vec.gz"
      ]
    },
    {
      "cell_type": "code",
      "execution_count": null,
      "metadata": {
        "id": "XA68b2mSNXxa"
      },
      "outputs": [],
      "source": [
        "!gunzip /content/cc.ar.300.vec.gz"
      ]
    },
    {
      "cell_type": "code",
      "execution_count": null,
      "metadata": {
        "colab": {
          "base_uri": "https://localhost:8080/"
        },
        "id": "jZCBNtoXrnS3",
        "outputId": "b26be342-4608-4d78-84dd-5b753c123f72"
      },
      "outputs": [
        {
          "output_type": "stream",
          "name": "stdout",
          "text": [
            "Word embeddings: 2000000\n",
            "Null word embeddings: 654\n"
          ]
        }
      ],
      "source": [
        "embeddings_index = {}\n",
        "with open(\"cc.ar.300.vec\", encoding='utf8') as f:\n",
        "    for line in f:\n",
        "        values = line.split(' ')\n",
        "        word = values[0]\n",
        "        embedding = np.asarray(values[1:], dtype='float')\n",
        "        embeddings_index[word] = embedding\n",
        "\n",
        "print('Word embeddings: %d' % len(embeddings_index))\n",
        "\n",
        "nb_words = min(MAX_NB_WORDS, len(word_index))\n",
        "word_embedding_matrix = np.zeros((nb_words + 1, EMBEDDING_DIM))\n",
        "for word, i in word_index.items():\n",
        "    if i > MAX_NB_WORDS:\n",
        "        continue\n",
        "    embedding_vector = embeddings_index.get(word)\n",
        "    if embedding_vector is not None:\n",
        "        word_embedding_matrix[i] = embedding_vector\n",
        "        \n",
        "\n",
        "print('Null word embeddings: %d' % np.sum(np.sum(word_embedding_matrix, axis=1) == 0))"
      ]
    },
    {
      "cell_type": "code",
      "execution_count": null,
      "metadata": {
        "id": "alnd0FBBrnS5"
      },
      "outputs": [],
      "source": [
        "# def get_sequances(texts, sequence_length):\n",
        "#     excerpt = pad_sequences(tokenizer.texts_to_sequences(texts[:, 0]), sequence_length)\n",
        "#     return excerpt"
      ]
    },
    {
      "cell_type": "code",
      "execution_count": null,
      "metadata": {
        "id": "EIQSPZ0ArnS5"
      },
      "outputs": [],
      "source": [
        "train_tweet = pad_sequences(tokenizer.texts_to_sequences(x_train.astype(str)), MAX_SEQUENCE_LENGTH)\n",
        "dev_tweet = pad_sequences(tokenizer.texts_to_sequences(x_dev.astype(str)), MAX_SEQUENCE_LENGTH)\n",
        "test_tweet = pad_sequences(tokenizer.texts_to_sequences(x_test.astype(str)), MAX_SEQUENCE_LENGTH)"
      ]
    },
    {
      "cell_type": "code",
      "execution_count": null,
      "metadata": {
        "id": "2tUgkLKBrnS6"
      },
      "outputs": [],
      "source": [
        "filter_length = 5\n",
        "nb_filter = 128\n",
        "pool_length = 4"
      ]
    },
    {
      "cell_type": "code",
      "execution_count": null,
      "metadata": {
        "colab": {
          "base_uri": "https://localhost:8080/",
          "height": 70
        },
        "id": "aExaxyPcuAMV",
        "outputId": "22321791-51ef-4020-b0b0-c47c19ba713a"
      },
      "outputs": [
        {
          "output_type": "execute_result",
          "data": {
            "text/plain": [
              "\"t11 = Embedding(nb_words + 1,\\n                    embedding_dim,\\n                    weights=[embeddings_matrix],\\n                    input_length=MAX_SEQUENCE_LENGTH,\\n                    trainable=False)(input_tweet)\\n\\n    t11 = TimeDistributed(Dense(256, activation='relu'))(t11)\\n    t11 = Lambda(lambda x: K.sum(x, axis=1), output_shape=(256,))(t11)\""
            ],
            "application/vnd.google.colaboratory.intrinsic+json": {
              "type": "string"
            }
          },
          "metadata": {},
          "execution_count": 18
        }
      ],
      "source": [
        "'''t11 = Embedding(nb_words + 1,\n",
        "                    embedding_dim,\n",
        "                    weights=[embeddings_matrix],\n",
        "                    input_length=MAX_SEQUENCE_LENGTH,\n",
        "                    trainable=False)(input_tweet)\n",
        "\n",
        "    t11 = TimeDistributed(Dense(256, activation='relu'))(t11)\n",
        "    t11 = Lambda(lambda x: K.sum(x, axis=1), output_shape=(256,))(t11)'''"
      ]
    },
    {
      "cell_type": "code",
      "execution_count": null,
      "metadata": {
        "id": "iiLaEGBqrnS6"
      },
      "outputs": [],
      "source": [
        "def buildModel(embeddings_matrix, sequence_length, lstm_dim, hidden_layer_dim, num_classes,\n",
        "               noise=0.1, dropout_lstm=0.2, dropout=0.2):\n",
        "    input_tweet = Input(shape=(sequence_length,), dtype='int32')\n",
        "    embedding_dim = embeddings_matrix.shape[1]\n",
        "    \n",
        "    x = Embedding(nb_words + 1,\n",
        "                    embedding_dim,\n",
        "                    weights=[embeddings_matrix],\n",
        "                    input_length=MAX_SEQUENCE_LENGTH,\n",
        "                    trainable=False)(input_tweet)\n",
        "    x = Masking(mask_value=0.0)(x)\n",
        "\n",
        "#model.add(LSTM(64, return_sequences=True, dropout=0.5, recurrent_dropout=0.2))\n",
        "    #x = Bidirectional(GRU(128, kernel_initializer=initializers.RandomNormal(stddev=0.01), dropout=0.5, recurrent_dropout=0.2 ))(x)\n",
        "    #kernel_initializer='normal'\n",
        "    x = Bidirectional(GRU(128, dropout=0.5, recurrent_dropout=0.2 ))(x)\n",
        "    x = Dropout(0.2)(x)\n",
        "\n",
        "    x = Dense(256, activation='relu', kernel_regularizer=l2(0.001))(x)\n",
        "    #x = Dropout(0.2)(x)\n",
        "    x = BatchNormalization()(x)\n",
        "\n",
        "    x = Dense(256, activation='relu', kernel_regularizer=l2(0.001))(x)\n",
        "    x = Dropout(0.2)(x)\n",
        "    x = BatchNormalization()(x)\n",
        "\n",
        "    x = Dense(128, activation='relu', kernel_regularizer=l2(0.001))(x)\n",
        "    x = Dropout(0.2)(x)\n",
        "    x = BatchNormalization()(x)\n",
        "    x = Flatten()(x)\n",
        "    # x = Dense(128, activation='relu', kernel_regularizer=l2(0.001))(x)\n",
        "    # x = Dropout(0.2)(x)kernel_initializer=RandomNormal(stddev=self.std)\n",
        "    # x = BatchNormalization()(x)\n",
        "\n",
        "    # x = Dense(hidden_layer_dim, activation='relu', kernel_regularizer=l2(0.001))(x)\n",
        "\n",
        "    output = Dense(num_classes, activation='softmax')(x)\n",
        "\n",
        "    model = Model(inputs=input_tweet, outputs=output)\n",
        "\n",
        "    model.compile(loss='categorical_crossentropy', optimizer='adam', metrics=['categorical_accuracy'])\n",
        "\n",
        "    return model"
      ]
    },
    {
      "cell_type": "code",
      "execution_count": null,
      "metadata": {
        "colab": {
          "base_uri": "https://localhost:8080/"
        },
        "id": "LwpJwqYuwzc4",
        "outputId": "632cfeec-f0b8-48ff-9387-5a8c9300811a"
      },
      "outputs": [
        {
          "output_type": "stream",
          "name": "stdout",
          "text": [
            "Model: \"model\"\n",
            "_________________________________________________________________\n",
            " Layer (type)                Output Shape              Param #   \n",
            "=================================================================\n",
            " input_1 (InputLayer)        [(None, 32)]              0         \n",
            "                                                                 \n",
            " embedding (Embedding)       (None, 32, 300)           15000300  \n",
            "                                                                 \n",
            " masking (Masking)           (None, 32, 300)           0         \n",
            "                                                                 \n",
            " bidirectional (Bidirectiona  (None, 256)              330240    \n",
            " l)                                                              \n",
            "                                                                 \n",
            " dropout (Dropout)           (None, 256)               0         \n",
            "                                                                 \n",
            " dense (Dense)               (None, 256)               65792     \n",
            "                                                                 \n",
            " batch_normalization (BatchN  (None, 256)              1024      \n",
            " ormalization)                                                   \n",
            "                                                                 \n",
            " dense_1 (Dense)             (None, 256)               65792     \n",
            "                                                                 \n",
            " dropout_1 (Dropout)         (None, 256)               0         \n",
            "                                                                 \n",
            " batch_normalization_1 (Batc  (None, 256)              1024      \n",
            " hNormalization)                                                 \n",
            "                                                                 \n",
            " dense_2 (Dense)             (None, 128)               32896     \n",
            "                                                                 \n",
            " dropout_2 (Dropout)         (None, 128)               0         \n",
            "                                                                 \n",
            " batch_normalization_2 (Batc  (None, 128)              512       \n",
            " hNormalization)                                                 \n",
            "                                                                 \n",
            " flatten (Flatten)           (None, 128)               0         \n",
            "                                                                 \n",
            " dense_3 (Dense)             (None, 4)                 516       \n",
            "                                                                 \n",
            "=================================================================\n",
            "Total params: 15,498,096\n",
            "Trainable params: 496,516\n",
            "Non-trainable params: 15,001,580\n",
            "_________________________________________________________________\n"
          ]
        }
      ],
      "source": [
        "model = buildModel(word_embedding_matrix,\n",
        "                   MAX_SEQUENCE_LENGTH, \n",
        "                   lstm_dim=128, \n",
        "                   hidden_layer_dim=30, \n",
        "                   num_classes=4)\n",
        "\n",
        "model.summary()"
      ]
    },
    {
      "cell_type": "code",
      "execution_count": null,
      "metadata": {
        "colab": {
          "base_uri": "https://localhost:8080/"
        },
        "id": "kUQVFd8-rnS7",
        "outputId": "828bd589-a139-4ad1-b6e5-b6e444a04063"
      },
      "outputs": [
        {
          "output_type": "stream",
          "name": "stderr",
          "text": [
            "WARNING:tensorflow:`epsilon` argument is deprecated and will be removed, use `min_delta` instead.\n"
          ]
        }
      ],
      "source": [
        "filepath = \"modelgru.h5\"\n",
        "checkpoint = ModelCheckpoint(filepath, monitor='val_loss', verbose=1, \n",
        "                             save_best_only=True, mode='min', save_weights_only = True)\n",
        "\n",
        "reduceLROnPlat = ReduceLROnPlateau(monitor='val_loss', factor=0.5, patience=3, \n",
        "                                   verbose=1, mode='auto', epsilon=0.0001)\n",
        "\n",
        "early = EarlyStopping(monitor=\"val_loss\", \n",
        "                      mode=\"min\", \n",
        "                      patience=7)\n",
        "\n"
      ]
    },
    {
      "cell_type": "code",
      "execution_count": null,
      "metadata": {
        "colab": {
          "base_uri": "https://localhost:8080/"
        },
        "id": "jsY9WfYnrnS7",
        "outputId": "98c89d3b-f002-4b20-823c-129d117fc2fd"
      },
      "outputs": [
        {
          "output_type": "stream",
          "name": "stdout",
          "text": [
            "Epoch 1/50\n",
            "622/622 [==============================] - ETA: 0s - loss: 1.2776 - categorical_accuracy: 0.7402\n",
            "Epoch 1: val_loss improved from inf to 0.93984, saving model to modelgru.h5\n",
            "622/622 [==============================] - 343s 537ms/step - loss: 1.2776 - categorical_accuracy: 0.7402 - val_loss: 0.9398 - val_categorical_accuracy: 0.8035 - lr: 0.0010\n",
            "Epoch 2/50\n",
            "622/622 [==============================] - ETA: 0s - loss: 0.8547 - categorical_accuracy: 0.7838\n",
            "Epoch 2: val_loss improved from 0.93984 to 0.68177, saving model to modelgru.h5\n",
            "622/622 [==============================] - 343s 552ms/step - loss: 0.8547 - categorical_accuracy: 0.7838 - val_loss: 0.6818 - val_categorical_accuracy: 0.8087 - lr: 0.0010\n",
            "Epoch 3/50\n",
            "622/622 [==============================] - ETA: 0s - loss: 0.6814 - categorical_accuracy: 0.7882\n",
            "Epoch 3: val_loss improved from 0.68177 to 0.57462, saving model to modelgru.h5\n",
            "622/622 [==============================] - 336s 541ms/step - loss: 0.6814 - categorical_accuracy: 0.7882 - val_loss: 0.5746 - val_categorical_accuracy: 0.8190 - lr: 0.0010\n",
            "Epoch 4/50\n",
            "622/622 [==============================] - ETA: 0s - loss: 0.6177 - categorical_accuracy: 0.7905\n",
            "Epoch 4: val_loss did not improve from 0.57462\n",
            "622/622 [==============================] - 343s 552ms/step - loss: 0.6177 - categorical_accuracy: 0.7905 - val_loss: 0.5771 - val_categorical_accuracy: 0.8061 - lr: 0.0010\n",
            "Epoch 5/50\n",
            "622/622 [==============================] - ETA: 0s - loss: 0.5954 - categorical_accuracy: 0.7966\n",
            "Epoch 5: val_loss improved from 0.57462 to 0.55716, saving model to modelgru.h5\n",
            "622/622 [==============================] - 335s 538ms/step - loss: 0.5954 - categorical_accuracy: 0.7966 - val_loss: 0.5572 - val_categorical_accuracy: 0.8140 - lr: 0.0010\n",
            "Epoch 6/50\n",
            "622/622 [==============================] - ETA: 0s - loss: 0.5863 - categorical_accuracy: 0.7976\n",
            "Epoch 6: val_loss improved from 0.55716 to 0.53075, saving model to modelgru.h5\n",
            "622/622 [==============================] - 339s 545ms/step - loss: 0.5863 - categorical_accuracy: 0.7976 - val_loss: 0.5307 - val_categorical_accuracy: 0.8217 - lr: 0.0010\n",
            "Epoch 7/50\n",
            "622/622 [==============================] - ETA: 0s - loss: 0.5775 - categorical_accuracy: 0.8005\n",
            "Epoch 7: val_loss did not improve from 0.53075\n",
            "622/622 [==============================] - 357s 575ms/step - loss: 0.5775 - categorical_accuracy: 0.8005 - val_loss: 0.5509 - val_categorical_accuracy: 0.8123 - lr: 0.0010\n",
            "Epoch 8/50\n",
            "622/622 [==============================] - ETA: 0s - loss: 0.5737 - categorical_accuracy: 0.8023\n",
            "Epoch 8: val_loss did not improve from 0.53075\n",
            "622/622 [==============================] - 334s 538ms/step - loss: 0.5737 - categorical_accuracy: 0.8023 - val_loss: 0.5551 - val_categorical_accuracy: 0.8103 - lr: 0.0010\n",
            "Epoch 9/50\n",
            "622/622 [==============================] - ETA: 0s - loss: 0.5682 - categorical_accuracy: 0.8050\n",
            "Epoch 9: val_loss did not improve from 0.53075\n",
            "\n",
            "Epoch 9: ReduceLROnPlateau reducing learning rate to 0.0005000000237487257.\n",
            "622/622 [==============================] - 333s 535ms/step - loss: 0.5682 - categorical_accuracy: 0.8050 - val_loss: 0.5333 - val_categorical_accuracy: 0.8199 - lr: 0.0010\n",
            "Epoch 10/50\n",
            "622/622 [==============================] - ETA: 0s - loss: 0.5496 - categorical_accuracy: 0.8087\n",
            "Epoch 10: val_loss improved from 0.53075 to 0.52596, saving model to modelgru.h5\n",
            "622/622 [==============================] - 332s 534ms/step - loss: 0.5496 - categorical_accuracy: 0.8087 - val_loss: 0.5260 - val_categorical_accuracy: 0.8185 - lr: 5.0000e-04\n",
            "Epoch 11/50\n",
            "622/622 [==============================] - ETA: 0s - loss: 0.5454 - categorical_accuracy: 0.8112\n",
            "Epoch 11: val_loss did not improve from 0.52596\n",
            "622/622 [==============================] - 335s 539ms/step - loss: 0.5454 - categorical_accuracy: 0.8112 - val_loss: 0.5283 - val_categorical_accuracy: 0.8201 - lr: 5.0000e-04\n",
            "Epoch 12/50\n",
            "622/622 [==============================] - ETA: 0s - loss: 0.5401 - categorical_accuracy: 0.8098\n",
            "Epoch 12: val_loss improved from 0.52596 to 0.51851, saving model to modelgru.h5\n",
            "622/622 [==============================] - 340s 547ms/step - loss: 0.5401 - categorical_accuracy: 0.8098 - val_loss: 0.5185 - val_categorical_accuracy: 0.8200 - lr: 5.0000e-04\n",
            "Epoch 13/50\n",
            "622/622 [==============================] - ETA: 0s - loss: 0.5388 - categorical_accuracy: 0.8109\n",
            "Epoch 13: val_loss improved from 0.51851 to 0.51307, saving model to modelgru.h5\n",
            "622/622 [==============================] - 336s 539ms/step - loss: 0.5388 - categorical_accuracy: 0.8109 - val_loss: 0.5131 - val_categorical_accuracy: 0.8222 - lr: 5.0000e-04\n",
            "Epoch 14/50\n",
            "622/622 [==============================] - ETA: 0s - loss: 0.5363 - categorical_accuracy: 0.8117\n",
            "Epoch 14: val_loss did not improve from 0.51307\n",
            "622/622 [==============================] - 331s 532ms/step - loss: 0.5363 - categorical_accuracy: 0.8117 - val_loss: 0.5174 - val_categorical_accuracy: 0.8202 - lr: 5.0000e-04\n",
            "Epoch 15/50\n",
            "622/622 [==============================] - ETA: 0s - loss: 0.5343 - categorical_accuracy: 0.8123\n",
            "Epoch 15: val_loss did not improve from 0.51307\n",
            "622/622 [==============================] - 332s 534ms/step - loss: 0.5343 - categorical_accuracy: 0.8123 - val_loss: 0.5306 - val_categorical_accuracy: 0.8143 - lr: 5.0000e-04\n",
            "Epoch 16/50\n",
            "622/622 [==============================] - ETA: 0s - loss: 0.5309 - categorical_accuracy: 0.8134\n",
            "Epoch 16: val_loss improved from 0.51307 to 0.51158, saving model to modelgru.h5\n",
            "622/622 [==============================] - 335s 538ms/step - loss: 0.5309 - categorical_accuracy: 0.8134 - val_loss: 0.5116 - val_categorical_accuracy: 0.8212 - lr: 5.0000e-04\n",
            "Epoch 17/50\n",
            "622/622 [==============================] - ETA: 0s - loss: 0.5275 - categorical_accuracy: 0.8142\n",
            "Epoch 17: val_loss improved from 0.51158 to 0.50970, saving model to modelgru.h5\n",
            "622/622 [==============================] - 332s 534ms/step - loss: 0.5275 - categorical_accuracy: 0.8142 - val_loss: 0.5097 - val_categorical_accuracy: 0.8256 - lr: 5.0000e-04\n",
            "Epoch 18/50\n",
            "622/622 [==============================] - ETA: 0s - loss: 0.5233 - categorical_accuracy: 0.8158\n",
            "Epoch 18: val_loss improved from 0.50970 to 0.50567, saving model to modelgru.h5\n",
            "622/622 [==============================] - 333s 535ms/step - loss: 0.5233 - categorical_accuracy: 0.8158 - val_loss: 0.5057 - val_categorical_accuracy: 0.8207 - lr: 5.0000e-04\n",
            "Epoch 19/50\n",
            "622/622 [==============================] - ETA: 0s - loss: 0.5213 - categorical_accuracy: 0.8165\n",
            "Epoch 19: val_loss did not improve from 0.50567\n",
            "622/622 [==============================] - 333s 535ms/step - loss: 0.5213 - categorical_accuracy: 0.8165 - val_loss: 0.5232 - val_categorical_accuracy: 0.8194 - lr: 5.0000e-04\n",
            "Epoch 20/50\n",
            "622/622 [==============================] - ETA: 0s - loss: 0.5188 - categorical_accuracy: 0.8173\n",
            "Epoch 20: val_loss improved from 0.50567 to 0.50400, saving model to modelgru.h5\n",
            "622/622 [==============================] - 333s 536ms/step - loss: 0.5188 - categorical_accuracy: 0.8173 - val_loss: 0.5040 - val_categorical_accuracy: 0.8269 - lr: 5.0000e-04\n",
            "Epoch 21/50\n",
            "622/622 [==============================] - ETA: 0s - loss: 0.5177 - categorical_accuracy: 0.8167\n",
            "Epoch 21: val_loss did not improve from 0.50400\n",
            "622/622 [==============================] - 331s 533ms/step - loss: 0.5177 - categorical_accuracy: 0.8167 - val_loss: 0.5095 - val_categorical_accuracy: 0.8229 - lr: 5.0000e-04\n",
            "Epoch 22/50\n",
            "622/622 [==============================] - ETA: 0s - loss: 0.5140 - categorical_accuracy: 0.8176\n",
            "Epoch 22: val_loss did not improve from 0.50400\n",
            "622/622 [==============================] - 334s 538ms/step - loss: 0.5140 - categorical_accuracy: 0.8176 - val_loss: 0.5233 - val_categorical_accuracy: 0.8199 - lr: 5.0000e-04\n",
            "Epoch 23/50\n",
            "622/622 [==============================] - ETA: 0s - loss: 0.5121 - categorical_accuracy: 0.8198\n",
            "Epoch 23: val_loss did not improve from 0.50400\n",
            "\n",
            "Epoch 23: ReduceLROnPlateau reducing learning rate to 0.0002500000118743628.\n",
            "622/622 [==============================] - 334s 537ms/step - loss: 0.5121 - categorical_accuracy: 0.8198 - val_loss: 0.5181 - val_categorical_accuracy: 0.8210 - lr: 5.0000e-04\n",
            "Epoch 24/50\n",
            "622/622 [==============================] - ETA: 0s - loss: 0.4994 - categorical_accuracy: 0.8236\n",
            "Epoch 24: val_loss did not improve from 0.50400\n",
            "622/622 [==============================] - 331s 533ms/step - loss: 0.4994 - categorical_accuracy: 0.8236 - val_loss: 0.5155 - val_categorical_accuracy: 0.8192 - lr: 2.5000e-04\n",
            "Epoch 25/50\n",
            "622/622 [==============================] - ETA: 0s - loss: 0.4963 - categorical_accuracy: 0.8249\n",
            "Epoch 25: val_loss did not improve from 0.50400\n",
            "622/622 [==============================] - 333s 535ms/step - loss: 0.4963 - categorical_accuracy: 0.8249 - val_loss: 0.5248 - val_categorical_accuracy: 0.8168 - lr: 2.5000e-04\n",
            "Epoch 26/50\n",
            "622/622 [==============================] - ETA: 0s - loss: 0.4938 - categorical_accuracy: 0.8245\n",
            "Epoch 26: val_loss improved from 0.50400 to 0.50126, saving model to modelgru.h5\n",
            "622/622 [==============================] - 332s 534ms/step - loss: 0.4938 - categorical_accuracy: 0.8245 - val_loss: 0.5013 - val_categorical_accuracy: 0.8242 - lr: 2.5000e-04\n",
            "Epoch 27/50\n",
            "622/622 [==============================] - ETA: 0s - loss: 0.4926 - categorical_accuracy: 0.8241\n",
            "Epoch 27: val_loss did not improve from 0.50126\n",
            "622/622 [==============================] - 331s 532ms/step - loss: 0.4926 - categorical_accuracy: 0.8241 - val_loss: 0.5094 - val_categorical_accuracy: 0.8209 - lr: 2.5000e-04\n",
            "Epoch 28/50\n",
            "622/622 [==============================] - ETA: 0s - loss: 0.4909 - categorical_accuracy: 0.8241\n",
            "Epoch 28: val_loss did not improve from 0.50126\n",
            "622/622 [==============================] - 332s 534ms/step - loss: 0.4909 - categorical_accuracy: 0.8241 - val_loss: 0.5083 - val_categorical_accuracy: 0.8225 - lr: 2.5000e-04\n",
            "Epoch 29/50\n",
            "622/622 [==============================] - ETA: 0s - loss: 0.4892 - categorical_accuracy: 0.8251\n",
            "Epoch 29: val_loss did not improve from 0.50126\n",
            "\n",
            "Epoch 29: ReduceLROnPlateau reducing learning rate to 0.0001250000059371814.\n",
            "622/622 [==============================] - 332s 533ms/step - loss: 0.4892 - categorical_accuracy: 0.8251 - val_loss: 0.5198 - val_categorical_accuracy: 0.8182 - lr: 2.5000e-04\n",
            "Epoch 30/50\n",
            "622/622 [==============================] - ETA: 0s - loss: 0.4817 - categorical_accuracy: 0.8277\n",
            "Epoch 30: val_loss did not improve from 0.50126\n",
            "622/622 [==============================] - 332s 534ms/step - loss: 0.4817 - categorical_accuracy: 0.8277 - val_loss: 0.5037 - val_categorical_accuracy: 0.8215 - lr: 1.2500e-04\n",
            "Epoch 31/50\n",
            "622/622 [==============================] - ETA: 0s - loss: 0.4803 - categorical_accuracy: 0.8278\n",
            "Epoch 31: val_loss did not improve from 0.50126\n",
            "622/622 [==============================] - 332s 534ms/step - loss: 0.4803 - categorical_accuracy: 0.8278 - val_loss: 0.5026 - val_categorical_accuracy: 0.8218 - lr: 1.2500e-04\n",
            "Epoch 32/50\n",
            "622/622 [==============================] - ETA: 0s - loss: 0.4802 - categorical_accuracy: 0.8286\n",
            "Epoch 32: val_loss improved from 0.50126 to 0.49950, saving model to modelgru.h5\n",
            "622/622 [==============================] - 333s 535ms/step - loss: 0.4802 - categorical_accuracy: 0.8286 - val_loss: 0.4995 - val_categorical_accuracy: 0.8256 - lr: 1.2500e-04\n",
            "Epoch 33/50\n",
            "622/622 [==============================] - ETA: 0s - loss: 0.4761 - categorical_accuracy: 0.8285\n",
            "Epoch 33: val_loss did not improve from 0.49950\n",
            "622/622 [==============================] - 333s 535ms/step - loss: 0.4761 - categorical_accuracy: 0.8285 - val_loss: 0.5228 - val_categorical_accuracy: 0.8154 - lr: 1.2500e-04\n",
            "Epoch 34/50\n",
            "622/622 [==============================] - ETA: 0s - loss: 0.4749 - categorical_accuracy: 0.8294\n",
            "Epoch 34: val_loss did not improve from 0.49950\n",
            "622/622 [==============================] - 332s 534ms/step - loss: 0.4749 - categorical_accuracy: 0.8294 - val_loss: 0.5076 - val_categorical_accuracy: 0.8222 - lr: 1.2500e-04\n",
            "Epoch 35/50\n",
            "622/622 [==============================] - ETA: 0s - loss: 0.4751 - categorical_accuracy: 0.8296\n",
            "Epoch 35: val_loss did not improve from 0.49950\n",
            "\n",
            "Epoch 35: ReduceLROnPlateau reducing learning rate to 6.25000029685907e-05.\n",
            "622/622 [==============================] - 331s 533ms/step - loss: 0.4751 - categorical_accuracy: 0.8296 - val_loss: 0.5108 - val_categorical_accuracy: 0.8186 - lr: 1.2500e-04\n",
            "Epoch 36/50\n",
            "622/622 [==============================] - ETA: 0s - loss: 0.4719 - categorical_accuracy: 0.8298\n",
            "Epoch 36: val_loss did not improve from 0.49950\n",
            "622/622 [==============================] - 332s 534ms/step - loss: 0.4719 - categorical_accuracy: 0.8298 - val_loss: 0.5082 - val_categorical_accuracy: 0.8195 - lr: 6.2500e-05\n",
            "Epoch 37/50\n",
            "622/622 [==============================] - ETA: 0s - loss: 0.4701 - categorical_accuracy: 0.8308\n",
            "Epoch 37: val_loss did not improve from 0.49950\n",
            "622/622 [==============================] - 332s 534ms/step - loss: 0.4701 - categorical_accuracy: 0.8308 - val_loss: 0.5123 - val_categorical_accuracy: 0.8177 - lr: 6.2500e-05\n",
            "Epoch 38/50\n",
            "622/622 [==============================] - ETA: 0s - loss: 0.4712 - categorical_accuracy: 0.8295\n",
            "Epoch 38: val_loss did not improve from 0.49950\n",
            "\n",
            "Epoch 38: ReduceLROnPlateau reducing learning rate to 3.125000148429535e-05.\n",
            "622/622 [==============================] - 332s 534ms/step - loss: 0.4712 - categorical_accuracy: 0.8295 - val_loss: 0.5069 - val_categorical_accuracy: 0.8224 - lr: 6.2500e-05\n",
            "Epoch 39/50\n",
            "622/622 [==============================] - ETA: 0s - loss: 0.4675 - categorical_accuracy: 0.8305\n",
            "Epoch 39: val_loss did not improve from 0.49950\n",
            "622/622 [==============================] - 333s 536ms/step - loss: 0.4675 - categorical_accuracy: 0.8305 - val_loss: 0.5024 - val_categorical_accuracy: 0.8222 - lr: 3.1250e-05\n"
          ]
        }
      ],
      "source": [
        "callbacks_list = [checkpoint, reduceLROnPlat, early]\n",
        "\n",
        "history = model.fit(train_tweet, np.array(y_train),\n",
        "                    callbacks=callbacks_list,\n",
        "                    validation_data=(dev_tweet, np.array(y_dev)),\n",
        "                    epochs=50,\n",
        "                    batch_size=128)\n",
        "\n"
      ]
    },
    {
      "cell_type": "code",
      "source": [
        "# serialize model to JSON\n",
        "model_json = model.to_json()\n",
        "with open(\"/gd\\rive/My Drive/Project-DataSceince/modelGRU50.json\", \"w\") as json_file:\n",
        "    json_file.write(model_json)\n",
        "# serialize weights to HDF5\n",
        "model.save_weights(\"/gdrive/My Drive/Project-DataSceince/modelGRU50.h5\")\n",
        "print(\"Saved model to disk\")"
      ],
      "metadata": {
        "colab": {
          "base_uri": "https://localhost:8080/"
        },
        "id": "jKE-B95b7hHh",
        "outputId": "90180d49-2965-41ff-8016-474dcb6215ef"
      },
      "execution_count": null,
      "outputs": [
        {
          "output_type": "stream",
          "name": "stdout",
          "text": [
            "Saved model to disk\n"
          ]
        }
      ]
    },
    {
      "cell_type": "code",
      "execution_count": null,
      "metadata": {
        "colab": {
          "base_uri": "https://localhost:8080/",
          "height": 353
        },
        "id": "_cZYe1k5rnS7",
        "outputId": "64823bf4-30a2-4598-bf22-9efe8b3dde3f"
      },
      "outputs": [
        {
          "output_type": "execute_result",
          "data": {
            "text/plain": [
              "<matplotlib.legend.Legend at 0x7ff9e4386f10>"
            ]
          },
          "metadata": {},
          "execution_count": 24
        },
        {
          "output_type": "display_data",
          "data": {
            "text/plain": [
              "<Figure size 1080x360 with 2 Axes>"
            ],
            "image/png": "[encoded data removed]"
          },
          "metadata": {
            "needs_background": "light"
          }
        }
      ],
      "source": [
        "fig, ax = plt.subplots(1, 2, figsize=(15,5))\n",
        "ax[0].set_title('loss')\n",
        "ax[0].plot(history.epoch, history.history[\"loss\"], label=\"Train loss\")\n",
        "ax[0].plot(history.epoch, history.history[\"val_loss\"], label=\"Validation loss\")\n",
        "ax[1].set_title('acc')\n",
        "ax[1].plot(history.epoch, history.history[\"categorical_accuracy\"], label=\"Train ACC\")\n",
        "ax[1].plot(history.epoch, history.history[\"val_categorical_accuracy\"], label=\"Validation ACC\")\n",
        "ax[0].legend()\n",
        "ax[1].legend()"
      ]
    },
    {
      "cell_type": "code",
      "execution_count": null,
      "metadata": {
        "colab": {
          "base_uri": "https://localhost:8080/"
        },
        "id": "VqPA3q0ernS8",
        "outputId": "9687190f-8cd9-46d2-bd2b-d183adba1c47"
      },
      "outputs": [
        {
          "output_type": "stream",
          "name": "stdout",
          "text": [
            "              precision    recall  f1-score   support\n",
            "\n",
            "           0       0.88      0.78      0.83      9429\n",
            "           1       0.79      0.71      0.75     16121\n",
            "           2       0.90      0.69      0.78      8810\n",
            "           3       0.85      0.94      0.90     45230\n",
            "\n",
            "    accuracy                           0.85     79590\n",
            "   macro avg       0.86      0.78      0.81     79590\n",
            "weighted avg       0.85      0.85      0.84     79590\n",
            "\n"
          ]
        }
      ],
      "source": [
        "y_pred = model.predict(train_tweet)\n",
        "\n",
        "print(classification_report(y_train.argmax(axis=1), y_pred.argmax(axis=1)))"
      ]
    },
    {
      "cell_type": "code",
      "execution_count": null,
      "metadata": {
        "colab": {
          "base_uri": "https://localhost:8080/"
        },
        "id": "3NuS2sHGrnS8",
        "outputId": "01b4138a-3102-4f97-cf0a-30f33539b416"
      },
      "outputs": [
        {
          "output_type": "stream",
          "name": "stdout",
          "text": [
            "              precision    recall  f1-score   support\n",
            "\n",
            "           0       0.81      0.71      0.75       674\n",
            "           1       0.83      0.66      0.73      2036\n",
            "           2       0.69      0.61      0.65      1079\n",
            "           3       0.84      0.93      0.88      5938\n",
            "\n",
            "    accuracy                           0.82      9727\n",
            "   macro avg       0.79      0.73      0.75      9727\n",
            "weighted avg       0.82      0.82      0.82      9727\n",
            "\n"
          ]
        }
      ],
      "source": [
        "y_pred = model.predict(dev_tweet)\n",
        "\n",
        "print(classification_report(y_dev.argmax(axis=1), y_pred.argmax(axis=1)))"
      ]
    },
    {
      "cell_type": "code",
      "execution_count": null,
      "metadata": {
        "colab": {
          "base_uri": "https://localhost:8080/"
        },
        "id": "2cEQrYc4UBop",
        "outputId": "3bf6a2f2-1d20-49a8-8fab-6cb59b6e667b"
      },
      "outputs": [
        {
          "output_type": "stream",
          "name": "stdout",
          "text": [
            "              precision    recall  f1-score   support\n",
            "\n",
            "           0       0.92      0.77      0.84      1220\n",
            "           1       0.84      0.64      0.73      2035\n",
            "           2       0.65      0.63      0.64      1049\n",
            "           3       0.83      0.94      0.88      5905\n",
            "\n",
            "    accuracy                           0.83     10209\n",
            "   macro avg       0.81      0.74      0.77     10209\n",
            "weighted avg       0.83      0.83      0.82     10209\n",
            "\n"
          ]
        }
      ],
      "source": [
        "y_pred = model.predict(test_tweet)\n",
        "\n",
        "print(classification_report(y_test.argmax(axis=1), y_pred.argmax(axis=1)))"
      ]
    },
    {
      "cell_type": "code",
      "execution_count": null,
      "metadata": {
        "colab": {
          "base_uri": "https://localhost:8080/",
          "height": 334
        },
        "id": "Q3919e2e1g2Z",
        "outputId": "7be3ccc1-e99e-4515-8e0d-9700bf5a2a7c"
      },
      "outputs": [
        {
          "output_type": "stream",
          "name": "stderr",
          "text": [
            "/usr/local/lib/python3.7/dist-packages/sklearn/utils/deprecation.py:87: FutureWarning: Function plot_confusion_matrix is deprecated; Function `plot_confusion_matrix` is deprecated in 1.0 and will be removed in 1.2. Use one of the class methods: ConfusionMatrixDisplay.from_predictions or ConfusionMatrixDisplay.from_estimator.\n",
            "  warnings.warn(msg, category=FutureWarning)\n"
          ]
        },
        {
          "output_type": "display_data",
          "data": {
            "text/plain": [
              "<Figure size 432x288 with 2 Axes>"
            ],
            "image/png": "[encoded data removed]"
          },
          "metadata": {
            "needs_background": "light"
          }
        }
      ],
      "source": [
        "IC = type('IdentityClassifier', (), {\"predict\": lambda i : i, \"_estimator_type\": \"classifier\"})\n",
        "plot_confusion_matrix(IC, y_test.argmax(axis=1), y_pred.argmax(axis=1), normalize='true', values_format='.2%');"
      ]
    },
    {
      "cell_type": "code",
      "execution_count": null,
      "metadata": {
        "colab": {
          "base_uri": "https://localhost:8080/"
        },
        "id": "LLpzsnxQuvWd",
        "outputId": "a204e1e6-5e0f-457e-c6f6-9e7b48a72d67"
      },
      "outputs": [
        {
          "output_type": "stream",
          "name": "stdout",
          "text": [
            "Accuracy: 0.825448\n",
            "Precision: 0.825448\n",
            "Recall: 0.825448\n",
            "F1 score: 0.825448\n"
          ]
        }
      ],
      "source": [
        "from sklearn.metrics import accuracy_score\n",
        "from sklearn.metrics import precision_score\n",
        "from sklearn.metrics import recall_score\n",
        "from sklearn.metrics import f1_score\n",
        "# accuracy: (tp + tn) / (p + n)\n",
        "accuracy = accuracy_score(y_test.argmax(axis=1), y_pred.argmax(axis=1))\n",
        "print('Accuracy: %f' % accuracy)\n",
        "# precision tp / (tp + fp)\n",
        "#precision = precision_score(ytest, y_pred)\n",
        "precision = precision_score (y_test.argmax(axis=1), y_pred.argmax(axis=1), average='micro')\n",
        "recall = recall_score(y_test.argmax(axis=1), y_pred.argmax(axis=1), average='micro')\n",
        "print('Precision: %f' % precision)\n",
        "# recall: tp / (tp + fn)\n",
        "#recall = recall_score(ytest, y_pred)\n",
        "print('Recall: %f' % recall)\n",
        "# f1: 2 tp / (2 tp + fp + fn)\n",
        "f1 = f1_score(y_test.argmax(axis=1), y_pred.argmax(axis=1), average='micro')\n",
        "print('F1 score: %f' % f1)"
      ]
    },
    {
      "cell_type": "code",
      "execution_count": null,
      "metadata": {
        "colab": {
          "base_uri": "https://localhost:8080/"
        },
        "id": "zROLv0xUxw8v",
        "outputId": "33daca9e-f5c9-4921-95a2-5798a3f8fb12"
      },
      "outputs": [
        {
          "output_type": "stream",
          "name": "stdout",
          "text": [
            "Accuracy: 0.825448\n",
            "Precision: 0.813763\n",
            "Recall: 0.742990\n",
            "F1 score: 0.772049\n"
          ]
        }
      ],
      "source": [
        "from sklearn.metrics import accuracy_score\n",
        "from sklearn.metrics import precision_score\n",
        "from sklearn.metrics import recall_score\n",
        "from sklearn.metrics import f1_score\n",
        "# accuracy: (tp + tn) / (p + n)\n",
        "accuracy = accuracy_score(y_test.argmax(axis=1), y_pred.argmax(axis=1))\n",
        "print('Accuracy: %f' % accuracy)\n",
        "# precision tp / (tp + fp)\n",
        "#precision = precision_score(ytest, y_pred)\n",
        "precision = precision_score (y_test.argmax(axis=1), y_pred.argmax(axis=1), average='macro')\n",
        "recall = recall_score(y_test.argmax(axis=1), y_pred.argmax(axis=1), average='macro')\n",
        "print('Precision: %f' % precision)\n",
        "# recall: tp / (tp + fn)\n",
        "#recall = recall_score(ytest, y_pred)\n",
        "print('Recall: %f' % recall)\n",
        "# f1: 2 tp / (2 tp + fp + fn)\n",
        "f1 = f1_score(y_test.argmax(axis=1), y_pred.argmax(axis=1), average='macro')\n",
        "print('F1 score: %f' % f1)"
      ]
    },
    {
      "cell_type": "code",
      "source": [
        "from google.colab import files\n",
        "import os\n",
        "\n",
        "dir_to_zip = 'tf_model' #@param {type: \"string\"}\n",
        "output_filename = 'tf_model.zip' #@param {type: \"string\"}\n",
        "delete_dir_after_download = \"No\"  #@param ['Yes', 'No']\n",
        "\n",
        "os.system( \"zip -r {} {}\".format( output_filename , dir_to_zip ) )\n",
        "\n",
        "if delete_dir_after_download == \"Yes\":\n",
        "    os.system( \"rm -r {}\".format( dir_to_zip ) )\n",
        "\n",
        "files.download( output_filename )"
      ],
      "metadata": {
        "id": "A5NBz3cp7kPQ"
      },
      "execution_count": null,
      "outputs": []
    }
  ],
  "metadata": {
    "accelerator": "TPU",
    "colab": {
      "collapsed_sections": [],
      "machine_shape": "hm",
      "provenance": []
    },
    "kernelspec": {
      "display_name": "Python 3",
      "language": "python",
      "name": "python3"
    },
    "language_info": {
      "codemirror_mode": {
        "name": "ipython",
        "version": 3
      },
      "file_extension": ".py",
      "mimetype": "text/x-python",
      "name": "python",
      "nbconvert_exporter": "python",
      "pygments_lexer": "ipython3",
      "version": "3.6.4"
    },
    "gpuClass": "standard"
  },
  "nbformat": 4,
  "nbformat_minor": 0
}